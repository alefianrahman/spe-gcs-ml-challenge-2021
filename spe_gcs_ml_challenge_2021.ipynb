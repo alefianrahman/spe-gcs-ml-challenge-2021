{
 "cells": [
  {
   "cell_type": "markdown",
   "metadata": {},
   "source": [
    "# SPE GCS ML Challenge 2021\n",
    "By: Doa Ibu Team\n",
    "- Raden Sasangka Ardi Nugraha \n",
    "- Mordekhai\n",
    "- Luthfi Nurul Hidayah Saifudin\n",
    "- Alfian Rahman"
   ]
  },
  {
   "cell_type": "code",
   "execution_count": 1,
   "metadata": {},
   "outputs": [
    {
     "name": "stdout",
     "output_type": "stream",
     "text": [
      "Requirement already satisfied: lasio in c:\\users\\alefi\\anaconda3\\lib\\site-packages (0.28)\n",
      "Requirement already satisfied: numpy in c:\\users\\alefi\\anaconda3\\lib\\site-packages (from lasio) (1.19.3)\n"
     ]
    }
   ],
   "source": [
    "!pip install lasio"
   ]
  },
  {
   "cell_type": "code",
   "execution_count": 2,
   "metadata": {},
   "outputs": [],
   "source": [
    "import json\n",
    "import gc\n",
    "import lasio\n",
    "import matplotlib.pyplot as plt\n",
    "import numpy as np\n",
    "import os\n",
    "import pandas as pd\n",
    "import seaborn as sns\n",
    "import sys\n",
    "import zipfile\n",
    "from sklearn.metrics import mean_squared_error\n",
    "from sklearn.model_selection import train_test_split\n",
    "from sklearn.multioutput import MultiOutputRegressor\n",
    "from xgboost import XGBRegressor\n",
    "\n",
    "#Expand data range display\n",
    "np.set_printoptions(threshold=sys.maxsize)\n",
    "pd.set_option('display.max_rows', None)\n",
    "pd.set_option('display.max_columns', None)\n",
    "pd.set_option('display.width', None)"
   ]
  },
  {
   "cell_type": "markdown",
   "metadata": {},
   "source": [
    "## Exploratory Data Analysis"
   ]
  },
  {
   "cell_type": "code",
   "execution_count": 3,
   "metadata": {},
   "outputs": [],
   "source": [
    "## Simple EDA "
   ]
  },
  {
   "cell_type": "markdown",
   "metadata": {},
   "source": [
    "## Data Preprocessing"
   ]
  },
  {
   "cell_type": "code",
   "execution_count": 4,
   "metadata": {},
   "outputs": [],
   "source": [
    "def LoadData(filename):\n",
    "    l = lasio.read(filename)\n",
    "    data_well = l.df()\n",
    "    log = list(data_well.columns.values)\n",
    "    header =[{'WELL': filename, \n",
    "            'START':l.well.STRT.value,\n",
    "            'STOP':l.well.STOP.value,\n",
    "            'STEP':l.well.STEP.value,\n",
    "            'LAT':l.well.SLAT.value,\n",
    "            'LON':l.well.SLON.value,\n",
    "            'DATUM':l.well.DATUM.value}]\n",
    "    data_well['WELL'] = filename  \n",
    "\n",
    "    log_list = pd.DataFrame(header)\n",
    "    for newlog in log:\n",
    "        log_list[newlog]= \"v\"\n",
    "    return data_well, log_list\n",
    "\n",
    "def MergeAlias(db, alias, logs_selected):\n",
    "    well = db['WELL'].unique()\n",
    "    merged_data = pd.DataFrame()\n",
    "\n",
    "    for i in range(len(well)):\n",
    "        data = db.where(db['WELL']==well[i]).dropna(axis=1, how='all')\n",
    "        for j in range(len(alias)):\n",
    "            welllog_name = list(set(data.columns).intersection(alias.get(list(alias)[j])))\n",
    "            samelog = data[welllog_name]\n",
    "            count_log = dict(sorted(zip(welllog_name, samelog.count()), key=lambda item: item[1], reverse=True))\n",
    "            welllog_name = list(count_log.keys())\n",
    "            if (len(welllog_name)!=0):\n",
    "                #If more than one log aliases exist, normalize each log to have same data range in the same depth\n",
    "                if (len(welllog_name)>1):\n",
    "                    alias_logs = data[welllog_name].dropna()\n",
    "                if (list(alias)[j] not in ['CAL','DTCO','DTSM']) and (len(alias_logs)!=0):\n",
    "                    a = []; b = []; c = []\n",
    "                    for n in range(len(alias_logs.columns)):\n",
    "                        q1 = alias_logs[welllog_name[n]].quantile(0.1)\n",
    "                        q9 = alias_logs[welllog_name[n]].quantile(0.9)\n",
    "                        a.append(q1)\n",
    "                        b.append(q9)\n",
    "                        c = [b-a for (a,b) in zip(a,b)]\n",
    "                        c = list(map(lambda x: x/c[0],c))\n",
    "                    for n in range(len(welllog_name)):\n",
    "                        data.loc[:, welllog_name[n]] *= 1/c[n]\n",
    "                for k in range(len(welllog_name)-1):\n",
    "                    data[welllog_name[0]].fillna(data[welllog_name[k+1]], inplace=True)\n",
    "                data[list(alias)[j]] = data[welllog_name[0]]\n",
    "        merged_data = merged_data.append(data)\n",
    "        merged_data = merged_data[merged_data['WELL'].notna()]\n",
    "    merged_data = merged_data[logs_selected]\n",
    "    return merged_data"
   ]
  },
  {
   "cell_type": "code",
   "execution_count": null,
   "metadata": {},
   "outputs": [],
   "source": [
    "##============================================================================\n",
    "# train_source_dir: folder containing LAS files for train dataset\n",
    "# test_source_dir: folder containing LAS files for test dataset\n",
    "# alias_file: dictionaries of log alias in JSON format (key:main log name, value:list of log alias/es)\n",
    "# logs_selected: list of log willing to be included in train and test dataset\n",
    "#\n",
    "# WARNING: Data loading and merging consumes a lot of memory. Unless you are running on a high computing device, \n",
    "# it is recommended to run the process in batch of 20-30 LAS files, then merge the result together.\n",
    "##============================================================================\n",
    "\n",
    "# UNCOMMENT THE CODES BELOW IF YOU WANT TO DO THE PROCESSING STEPS (IT MAY TAKE MINUTES OR HOURS) \n",
    "\n",
    "# #Initialization\n",
    "# current_dir = os.getcwd()\n",
    "# train_source_dir = '/data/train'\n",
    "# test_source_dir = '/data/test'\n",
    "# alias_file = '/data/alias.json'\n",
    "# logs_selected= ['WELL','DEPT','CAL','SP','GR','POR','DRES','DTCO','PEF','DENS','DRHO']\n",
    "\n",
    "# with open(current_dir + alias_file, 'r') as file:\n",
    "#     alias = json.load(file)\n",
    "\n",
    "# # Loading raw data for train dataset\n",
    "# data_train = pd.DataFrame()\n",
    "# log_ava_train = pd.DataFrame()\n",
    "# for f in sorted(os.listdir(train_source_dir)):\n",
    "#     data_well, log_list = LoadData(f\"/{train_source_dir}/{f}\")\n",
    "#     data_train = data_train.append(data_well)\n",
    "#     log_ava_train = log_ava_train.append(log_list)\n",
    "\n",
    "# # Merge log aliases for train dataset\n",
    "# data_train = data_train.reset_index()\n",
    "# train = MergeAlias(data_train,alias,logs_selected).dropna()\n",
    "# train.rename(columns={'POR':'NPHI','DENS':'RHOB'}, inplace=True)\n",
    "\n",
    "# # Select well data which has more than 5000ft length\n",
    "# log_ava_train['LENGTH'] = log_ava_train['STOP']-log_ava_train['START']\n",
    "# log_ava_train = log_ava_train.sort_values('LENGTH', ascending=False)\n",
    "# well_selected = log_ava_train[log_ava_train['LENGTH']>10000]\n",
    "# well_selected = well_selected['WELL']\n",
    "\n",
    "# train = train[train['WELL'].isin(well_selected)]\n",
    "\n",
    "# # Loading raw data for test dataset\n",
    "# data_test = pd.DataFrame()\n",
    "# log_ava_test = pd.DataFrame()\n",
    "# for f in sorted(os.listdir(current_dir + test_source_dir)):\n",
    "#     data_well, log_list = LoadData(current_dir + f\"/{test_source_dir}/{f}\")\n",
    "#     data_test = data_test.append(data_well)\n",
    "#     log_ava_test = log_ava_test.append(log_list)\n",
    "\n",
    "# # Merge log aliases for test dataset\n",
    "# data_test = data_test.reset_index()\n",
    "# test = MergeAlias(data_test, alias, logs_selected)\n",
    "# test.rename(columns={'POR':'NPHI','DENS':'RHOB'}, inplace=True)\n",
    "\n",
    "# # Save loaded data\n",
    "# train.to_csv('data/preprocessed/train.csv')\n",
    "# test.to_csv('data/preprocessed/test.csv')\n",
    "\n",
    "# #Display raw data distribution\n",
    "# log_ava_train.count().plot(kind='bar', figsize=(35,7), title='Train Raw Data')\n",
    "# log_ava_test.count().plot(kind='bar', figsize=(35,7), title='Test Raw Data')\n",
    "\n",
    "# #Display data distribution - after merging aliases\n",
    "# train.count().plot(kind='bar', figsize=(35,7), title='Test Data')\n",
    "# test.count().plot(kind='bar', figsize=(35,7), title='Test Data')"
   ]
  },
  {
   "cell_type": "code",
   "execution_count": 6,
   "metadata": {},
   "outputs": [],
   "source": [
    "## Code from Bang Dekha & Kak Upi (for test data)"
   ]
  },
  {
   "cell_type": "code",
   "execution_count": 7,
   "metadata": {},
   "outputs": [],
   "source": [
    "df = pd.read_csv('data/preprocessed/train.csv')"
   ]
  },
  {
   "cell_type": "markdown",
   "metadata": {},
   "source": [
    "## Data Cleansing"
   ]
  },
  {
   "cell_type": "code",
   "execution_count": 8,
   "metadata": {},
   "outputs": [
    {
     "data": {
      "image/png": "[encoded data removed]",
      "text/plain": [
       "<Figure size 1440x288 with 7 Axes>"
      ]
     },
     "metadata": {
      "needs_background": "light"
     },
     "output_type": "display_data"
    }
   ],
   "source": [
    "features = ['GR', 'NPHI', 'DTCO', 'PEF', 'RHOB', 'SP', 'DEPT']\n",
    "\n",
    "def plot_features_box_plot(df=df, features=features):\n",
    "    plt.figure(figsize=(20, 4))\n",
    "\n",
    "    for idx, feature in enumerate(features):   \n",
    "        plt.subplot(1, len(features), idx+1)\n",
    "        df[feature].plot.box()\n",
    "    plt.show()\n",
    "\n",
    "plot_features_box_plot()"
   ]
  },
  {
   "cell_type": "code",
   "execution_count": 9,
   "metadata": {},
   "outputs": [
    {
     "data": {
      "image/png": "[encoded data removed]",
      "text/plain": [
       "<Figure size 1440x288 with 7 Axes>"
      ]
     },
     "metadata": {
      "needs_background": "light"
     },
     "output_type": "display_data"
    }
   ],
   "source": [
    "df = df.loc[\n",
    "    (df['GR'] < 550) & \n",
    "    (df['DTCO'] < 170) & \n",
    "    (df['CAL'] >= 6) & (df['CAL'] <= 21) & \n",
    "    (df['PEF'] <= 10) &\n",
    "    (df['RHOB'] <= 3.1) & \n",
    "    (df['SP'] <= 150), :]\n",
    "df = df[df['DTCO'] < df['DTSM']]\n",
    "plot_features_box_plot(df)"
   ]
  },
  {
   "cell_type": "markdown",
   "metadata": {},
   "source": [
    "## Split Train & Test Data"
   ]
  },
  {
   "cell_type": "code",
   "execution_count": 10,
   "metadata": {},
   "outputs": [
    {
     "name": "stdout",
     "output_type": "stream",
     "text": [
      "Total shape:  (173880, 12)\n",
      "Train shape:  (139104, 7)\n",
      "Test shape:  (34776, 7)\n"
     ]
    }
   ],
   "source": [
    "X = df[features]\n",
    "y = df['DTSM']\n",
    "\n",
    "# Split data \n",
    "X_train, X_test, y_train, y_test = train_test_split(X, y, test_size=0.2, random_state=9)\n",
    "\n",
    "print('Total shape: ', df.shape)\n",
    "print('Train shape: ', X_train.shape)\n",
    "print('Test shape: ', X_test.shape)"
   ]
  },
  {
   "cell_type": "markdown",
   "metadata": {},
   "source": [
    "## Model Building (XGBoost)"
   ]
  },
  {
   "cell_type": "code",
   "execution_count": 11,
   "metadata": {},
   "outputs": [],
   "source": [
    "def rmse(actual, pred):\n",
    "    return np.sqrt(mean_squared_error(actual, pred))"
   ]
  },
  {
   "cell_type": "markdown",
   "metadata": {},
   "source": [
    "### Model All"
   ]
  },
  {
   "cell_type": "code",
   "execution_count": 12,
   "metadata": {},
   "outputs": [
    {
     "name": "stdout",
     "output_type": "stream",
     "text": [
      "RMSE train:  7.539097411806665\n",
      "RMSE test: 8.333483518220477\n"
     ]
    }
   ],
   "source": [
    "model = XGBRegressor()\n",
    "model.fit(X_train, y_train)\n",
    "\n",
    "# Train performance\n",
    "pred_train = model.predict(X_train)\n",
    "print('RMSE train: ', rmse(y_train, pred_train))\n",
    "\n",
    "# Test performance \n",
    "pred_test = model.predict(X_test)\n",
    "print('RMSE test:', rmse(y_test, pred_test))"
   ]
  },
  {
   "cell_type": "code",
   "execution_count": 13,
   "metadata": {},
   "outputs": [
    {
     "data": {
      "image/png": "[encoded data removed]",
      "text/plain": [
       "<Figure size 432x288 with 1 Axes>"
      ]
     },
     "metadata": {
      "needs_background": "light"
     },
     "output_type": "display_data"
    }
   ],
   "source": [
    "plt.bar(features, model.feature_importances_)\n",
    "plt.title('Feature Importance')\n",
    "plt.show()"
   ]
  },
  {
   "cell_type": "markdown",
   "metadata": {},
   "source": [
    "### Model No PEF"
   ]
  },
  {
   "cell_type": "code",
   "execution_count": 14,
   "metadata": {},
   "outputs": [],
   "source": [
    "# Split data \n",
    "X_no_pef = X.drop(columns='PEF')\n",
    "X_train_no_pef, X_test_no_pef, _, _ = train_test_split(X_no_pef, y, test_size=0.2, random_state=9)"
   ]
  },
  {
   "cell_type": "code",
   "execution_count": 15,
   "metadata": {},
   "outputs": [
    {
     "name": "stdout",
     "output_type": "stream",
     "text": [
      "RMSE train:  7.718563099561678\n",
      "RMSE test: 8.47888907316125\n"
     ]
    }
   ],
   "source": [
    "model_no_pef = XGBRegressor()\n",
    "model_no_pef.fit(X_train_no_pef, y_train)\n",
    "\n",
    "# Train performance\n",
    "pred_train = model_no_pef.predict(X_train_no_pef)\n",
    "print('RMSE train: ', rmse(y_train, pred_train))\n",
    "\n",
    "# Test performance \n",
    "pred_test = model_no_pef.predict(X_test_no_pef)\n",
    "print('RMSE test:', rmse(y_test, pred_test))"
   ]
  },
  {
   "cell_type": "code",
   "execution_count": 16,
   "metadata": {},
   "outputs": [
    {
     "data": {
      "image/png": "[encoded data removed]",
      "text/plain": [
       "<Figure size 432x288 with 1 Axes>"
      ]
     },
     "metadata": {
      "needs_background": "light"
     },
     "output_type": "display_data"
    }
   ],
   "source": [
    "plt.bar([feature for feature in features if feature != 'PEF'], model_no_pef.feature_importances_)\n",
    "plt.title('Feature Importance')\n",
    "plt.show()"
   ]
  },
  {
   "cell_type": "markdown",
   "metadata": {},
   "source": [
    "### Model No SP"
   ]
  },
  {
   "cell_type": "code",
   "execution_count": 17,
   "metadata": {},
   "outputs": [],
   "source": [
    "# Split data \n",
    "X_no_sp = X.drop(columns='SP')\n",
    "X_train_no_sp, X_test_no_sp, _, _ = train_test_split(X_no_sp, y, test_size=0.2, random_state=9)"
   ]
  },
  {
   "cell_type": "code",
   "execution_count": 18,
   "metadata": {},
   "outputs": [
    {
     "name": "stdout",
     "output_type": "stream",
     "text": [
      "RMSE train:  7.990412059613872\n",
      "RMSE test: 8.804390255716322\n"
     ]
    }
   ],
   "source": [
    "model_no_sp = XGBRegressor()\n",
    "model_no_sp.fit(X_train_no_sp, y_train)\n",
    "\n",
    "# Train performance\n",
    "pred_train_no_sp = model_no_sp.predict(X_train_no_sp)\n",
    "print('RMSE train: ', rmse(y_train, pred_train_no_sp))\n",
    "\n",
    "# Test performance \n",
    "pred_test_no_sp = model_no_sp.predict(X_test_no_sp)\n",
    "print('RMSE test:', rmse(y_test, pred_test_no_sp))"
   ]
  },
  {
   "cell_type": "code",
   "execution_count": 19,
   "metadata": {},
   "outputs": [
    {
     "data": {
      "image/png": "[encoded data removed]",
      "text/plain": [
       "<Figure size 432x288 with 1 Axes>"
      ]
     },
     "metadata": {
      "needs_background": "light"
     },
     "output_type": "display_data"
    }
   ],
   "source": [
    "plt.bar([feature for feature in features if feature != 'SP'], model_no_sp.feature_importances_)\n",
    "plt.title('Feature Importance')\n",
    "plt.show()"
   ]
  },
  {
   "cell_type": "markdown",
   "metadata": {},
   "source": [
    "### Model No SP & PEF"
   ]
  },
  {
   "cell_type": "code",
   "execution_count": 20,
   "metadata": {},
   "outputs": [],
   "source": [
    "# Split data \n",
    "X_no_sp_pef = X.drop(columns=['SP', 'PEF'])\n",
    "X_train_no_sp_pef, X_test_no_sp_pef, _, _ = train_test_split(X_no_sp_pef, y, test_size=0.2, random_state=9)"
   ]
  },
  {
   "cell_type": "code",
   "execution_count": 21,
   "metadata": {},
   "outputs": [
    {
     "name": "stdout",
     "output_type": "stream",
     "text": [
      "RMSE train:  8.298783496357233\n",
      "RMSE test: 9.0421988835626\n"
     ]
    }
   ],
   "source": [
    "model_no_sp_pef = XGBRegressor()\n",
    "model_no_sp_pef.fit(X_train_no_sp_pef, y_train)\n",
    "\n",
    "# Train performance\n",
    "pred_train_no_sp_pef = model_no_sp_pef.predict(X_train_no_sp_pef)\n",
    "print('RMSE train: ', rmse(y_train, pred_train_no_sp_pef))\n",
    "\n",
    "# Test performance \n",
    "pred_test_no_sp_pef = model_no_sp_pef.predict(X_test_no_sp_pef)\n",
    "print('RMSE test:', rmse(y_test, pred_test_no_sp_pef))"
   ]
  },
  {
   "cell_type": "code",
   "execution_count": 22,
   "metadata": {},
   "outputs": [
    {
     "data": {
      "image/png": "[encoded data removed]",
      "text/plain": [
       "<Figure size 432x288 with 1 Axes>"
      ]
     },
     "metadata": {
      "needs_background": "light"
     },
     "output_type": "display_data"
    }
   ],
   "source": [
    "plt.bar([feature for feature in features if feature not in ['SP', 'PEF']], model_no_sp_pef.feature_importances_)\n",
    "plt.title('Feature Importance')\n",
    "plt.show()"
   ]
  },
  {
   "cell_type": "markdown",
   "metadata": {},
   "source": [
    "## Prediction"
   ]
  },
  {
   "cell_type": "code",
   "execution_count": null,
   "metadata": {},
   "outputs": [],
   "source": [
    "df_test = pd.read_csv('data/preprocessed/test.csv', index_col=0)\n",
    "df_test"
   ]
  },
  {
   "cell_type": "code",
   "execution_count": null,
   "metadata": {},
   "outputs": [],
   "source": [
    "model_all_test_wells = ['2f96a5f92418_TGS', '34a80ab7a5fa_TGS', '1684cc35f399_TGS', '7595ba9fb314_TGS', \n",
    "                        '63250f7d463b_TGS', '113412eec2a6_TGS', '302460e3021a_TGS', '20372701d5e2_TGS', \n",
    "                        'ed48bda2217f_TGS', 'eed1e9537976_TGS', 'fca03aa6acde_TGS', 'ff7845ea074d_TGS']\n",
    "model_no_pef_test_wells = ['00d02be79f49_TGS', '84c5fb9cc880_TGS']\n",
    "model_no_sp_test_wells = ['0a7822c59487_TGS', '8e37531ba266_TGS', '94c1f5cae85c_TGS', '638f2cc65681_TGS', '3369b6f8fb6f_TGS']\n",
    "model_no_sp_pef_test_wells = ['ae16a9f64878_TGS']\n",
    "\n",
    "model_test_wells = {\n",
    "    model: {\n",
    "        'features': list(X_train.columns), \n",
    "        'wells': model_all_test_wells\n",
    "    }, \n",
    "    model_no_pef: {\n",
    "        'features': list(X_train_no_pef.columns), \n",
    "        'wells': model_no_pef_test_wells\n",
    "    },\n",
    "    model_no_sp: {\n",
    "        'features': list(X_train_no_sp.columns), \n",
    "        'wells': model_no_sp_test_wells\n",
    "    },\n",
    "    model_no_sp_pef: {\n",
    "        'features': list(X_train_no_sp_pef.columns), \n",
    "        'wells': model_no_sp_pef_test_wells\n",
    "    }\n",
    "}"
   ]
  },
  {
   "cell_type": "code",
   "execution_count": null,
   "metadata": {},
   "outputs": [],
   "source": [
    "for model_test, test_wells in model_test_wells.items():\n",
    "    test_well_features = test_wells['features']\n",
    "    for test_well in test_wells['wells']:\n",
    "        well_code = test_well + '.las'\n",
    "        model_test_pred = model_test.predict(df_test.loc[df_test['WELL'] == well_code, test_well_features])\n",
    "        df_test.loc[df_test['WELL'] == well_code, 'DTSM_PRED'] = model_test_pred"
   ]
  },
  {
   "cell_type": "code",
   "execution_count": null,
   "metadata": {},
   "outputs": [],
   "source": [
    "plt.figure(figsize=(10, 10))\n",
    "for well in df_test['WELL'].unique():\n",
    "    plt.scatter(df_test.loc[df_test['WELL'] == well, 'DTSM_PRED'], \n",
    "                df_test.loc[df_test['WELL'] == well, 'DTCO'], label=well[:-4])\n",
    "plt.plot(np.linspace(0,250,11), np.linspace(0,250,11))\n",
    "plt.xlabel('DTSM Prediction')\n",
    "plt.ylabel('DTCO')\n",
    "plt.legend()\n",
    "plt.show()"
   ]
  },
  {
   "cell_type": "code",
   "execution_count": null,
   "metadata": {},
   "outputs": [],
   "source": [
    "plt.figure(figsize=(10, 15))\n",
    "for well in df_test['WELL'].unique():\n",
    "    plt.plot(df_test.loc[df_test['WELL'] == well, 'DTSM_PRED'], \n",
    "                df_test.loc[df_test['WELL'] == well, 'DEPT'], label=well[:-4])\n",
    "plt.xlabel('DTSM Prediction')\n",
    "plt.ylabel('Depth')\n",
    "plt.gca().invert_yaxis()\n",
    "plt.legend()\n",
    "plt.show()"
   ]
  },
  {
   "cell_type": "markdown",
   "metadata": {},
   "source": [
    "## Submission"
   ]
  },
  {
   "cell_type": "code",
   "execution_count": null,
   "metadata": {},
   "outputs": [],
   "source": [
    "# Export prediction outputs to Excel files\n",
    "for well in df_test['WELL'].unique():\n",
    "    submission = df_test.loc[df_test['WELL'] == well, ['DEPT', 'DTSM_PRED']]\n",
    "    submission.columns = ['Depth', 'DTSM']\n",
    "    submission.to_excel('submission/' + well[:-4] + '.xlsx', index=False)"
   ]
  },
  {
   "cell_type": "code",
   "execution_count": null,
   "metadata": {},
   "outputs": [],
   "source": [
    "# Compress to zip \n",
    "with zipfile.ZipFile('submission/DoaIbu.zip', 'w') as zipF:\n",
    "    for file in os.listdir('submission'):\n",
    "        if file.endswith('.xlsx'):\n",
    "            zipF.write(os.getcwd() + '/submission/' + file, file)"
   ]
  }
 ],
 "metadata": {
  "kernelspec": {
   "display_name": "Python 3",
   "language": "python",
   "name": "python3"
  },
  "language_info": {
   "codemirror_mode": {
    "name": "ipython",
    "version": 3
   },
   "file_extension": ".py",
   "mimetype": "text/x-python",
   "name": "python",
   "nbconvert_exporter": "python",
   "pygments_lexer": "ipython3",
   "version": "3.8.5"
  }
 },
 "nbformat": 4,
 "nbformat_minor": 4
}
